{
 "cells": [
  {
   "cell_type": "code",
   "execution_count": 3,
   "id": "d05ccac6",
   "metadata": {},
   "outputs": [],
   "source": [
    "from music21 import converter,instrument,note,chord,stream\n",
    "import glob\n",
    "import pickle\n",
    "import numpy as np\n",
    "from keras.utils import np_utils"
   ]
  },
  {
   "cell_type": "markdown",
   "id": "1bcbd9c5",
   "metadata": {},
   "source": [
    "# Read a Midi File"
   ]
  },
  {
   "cell_type": "code",
   "execution_count": 4,
   "id": "1cb045f3",
   "metadata": {},
   "outputs": [],
   "source": [
    "midi=converter.parse(\"midi/alb_esp1.mid\")"
   ]
  },
  {
   "cell_type": "code",
   "execution_count": 5,
   "id": "07cfdb74",
   "metadata": {},
   "outputs": [
    {
     "data": {
      "text/plain": [
       "<music21.stream.Score 0x23d5ffb1340>"
      ]
     },
     "execution_count": 5,
     "metadata": {},
     "output_type": "execute_result"
    }
   ],
   "source": [
    "midi"
   ]
  },
  {
   "cell_type": "code",
   "execution_count": 6,
   "id": "50df26cc",
   "metadata": {},
   "outputs": [
    {
     "data": {
      "text/html": [
       "\n",
       "                <div id=\"midiPlayerDiv18719\"></div>\n",
       "                <link rel=\"stylesheet\" href=\"//cuthbertLab.github.io/music21j/css/m21.css\"\n",
       "                    type=\"text/css\" />\n",
       "                \n",
       "                <script>\n",
       "                require.config({\n",
       "                    paths: {'music21': '//cuthbertLab.github.io/music21j/src/music21'}\n",
       "                });\n",
       "                require(['music21'], function() {\n",
       "                               mp = new music21.miditools.MidiPlayer();\n",
       "                               mp.addPlayer(\"#midiPlayerDiv18719\");\n",
       "                               mp.base64Load(\"data:audio/midi;base64,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\");\n",
       "                        });\n",
       "                </script>"
      ],
      "text/plain": [
       "<IPython.core.display.HTML object>"
      ]
     },
     "metadata": {},
     "output_type": "display_data"
    }
   ],
   "source": [
    "midi.show('midi')"
   ]
  },
  {
   "cell_type": "code",
   "execution_count": 7,
   "id": "5366837d",
   "metadata": {},
   "outputs": [],
   "source": [
    "#midi.show('text') #we use midi and not mp3 since music21 can process midi files only"
   ]
  },
  {
   "cell_type": "code",
   "execution_count": 8,
   "id": "c9740964",
   "metadata": {},
   "outputs": [],
   "source": [
    "elements_to_parse=midi.flat.notes"
   ]
  },
  {
   "cell_type": "code",
   "execution_count": 9,
   "id": "18fdf95f",
   "metadata": {},
   "outputs": [
    {
     "data": {
      "text/plain": [
       "606"
      ]
     },
     "execution_count": 9,
     "metadata": {},
     "output_type": "execute_result"
    }
   ],
   "source": [
    "len(elements_to_parse)"
   ]
  },
  {
   "cell_type": "code",
   "execution_count": 10,
   "id": "733ab609",
   "metadata": {},
   "outputs": [],
   "source": [
    "notes_demo=[]\n",
    "for e in elements_to_parse:\n",
    "    #if the element is a note, then store its a pitch\n",
    "    if isinstance(e, note.Note):\n",
    "        notes_demo.append(str(e.pitch))\n",
    "    \n",
    "    \n",
    "    #if the element is a chord,split each note of chord and join them with +\n",
    "    elif isinstance(e, chord.Chord):\n",
    "        notes_demo.append(\"+\".join(str(n) for n in e.normalOrder))"
   ]
  },
  {
   "cell_type": "code",
   "execution_count": 11,
   "id": "f47cb8e1",
   "metadata": {},
   "outputs": [
    {
     "data": {
      "text/plain": [
       "'E4'"
      ]
     },
     "execution_count": 11,
     "metadata": {},
     "output_type": "execute_result"
    }
   ],
   "source": [
    "str(elements_to_parse[3].pitch)"
   ]
  },
  {
   "cell_type": "code",
   "execution_count": 12,
   "id": "faa73ba5",
   "metadata": {},
   "outputs": [
    {
     "data": {
      "text/plain": [
       "False"
      ]
     },
     "execution_count": 12,
     "metadata": {},
     "output_type": "execute_result"
    }
   ],
   "source": [
    "isinstance(elements_to_parse[7], note.Note)"
   ]
  },
  {
   "cell_type": "code",
   "execution_count": 13,
   "id": "d8bbdbeb",
   "metadata": {},
   "outputs": [
    {
     "data": {
      "text/plain": [
       "606"
      ]
     },
     "execution_count": 13,
     "metadata": {},
     "output_type": "execute_result"
    }
   ],
   "source": [
    "len(notes_demo)"
   ]
  },
  {
   "cell_type": "markdown",
   "id": "fb70959b",
   "metadata": {},
   "source": [
    "# Preprocessing List"
   ]
  },
  {
   "cell_type": "code",
   "execution_count": null,
   "id": "65491042",
   "metadata": {},
   "outputs": [],
   "source": [
    "notes=[]\n",
    "for file in glob.glob(\"midi/*.mid\"):\n",
    "    midi=converter.parse(file)\n",
    "    \n",
    "    print(\"parsing %s\"%file)\n",
    "    \n",
    "    elements_to_parse=midi.flat.notes\n",
    "    for e in elements_to_parse:\n",
    "        if isinstance(e, note.Note):\n",
    "            notes.append(str(e.pitch))\n",
    "        elif isinstance(e, chord.Chord):\n",
    "            notes.append(\"+\".join(str(n) for n in e.normalOrder))"
   ]
  },
  {
   "cell_type": "code",
   "execution_count": null,
   "id": "335eb75c",
   "metadata": {},
   "outputs": [],
   "source": [
    "with open(\"notes\",\"wb\") as filepath:\n",
    "    pickle.dump(notes,filepath)"
   ]
  },
  {
   "cell_type": "code",
   "execution_count": 14,
   "id": "3302ffbe",
   "metadata": {},
   "outputs": [],
   "source": [
    "with open(\"notes\",\"rb\") as file:\n",
    "    notes=pickle.load(file)"
   ]
  },
  {
   "cell_type": "code",
   "execution_count": 15,
   "id": "1ab23125",
   "metadata": {},
   "outputs": [],
   "source": [
    "n_vocab=len(set(notes)) #no.of classes"
   ]
  },
  {
   "cell_type": "code",
   "execution_count": 16,
   "id": "7c7de077",
   "metadata": {},
   "outputs": [
    {
     "name": "stdout",
     "output_type": "stream",
     "text": [
      "386\n"
     ]
    }
   ],
   "source": [
    "print(n_vocab)"
   ]
  },
  {
   "cell_type": "code",
   "execution_count": 17,
   "id": "322b080d",
   "metadata": {},
   "outputs": [
    {
     "data": {
      "text/plain": [
       "86481"
      ]
     },
     "execution_count": 17,
     "metadata": {},
     "output_type": "execute_result"
    }
   ],
   "source": [
    "len(notes)"
   ]
  },
  {
   "cell_type": "markdown",
   "id": "51000f1c",
   "metadata": {},
   "source": [
    "# SEQUENTIAL DATA  FOR LSTM"
   ]
  },
  {
   "cell_type": "markdown",
   "id": "933ee60a",
   "metadata": {},
   "source": [
    "MARKOV CHAIN GENERATION"
   ]
  },
  {
   "cell_type": "code",
   "execution_count": 18,
   "id": "0451a192",
   "metadata": {},
   "outputs": [],
   "source": [
    "sequence_length=100"
   ]
  },
  {
   "cell_type": "code",
   "execution_count": 19,
   "id": "1dd46599",
   "metadata": {},
   "outputs": [],
   "source": [
    "pitchnames=sorted(set(notes))"
   ]
  },
  {
   "cell_type": "code",
   "execution_count": 20,
   "id": "8b9d7351",
   "metadata": {},
   "outputs": [],
   "source": [
    "#Mapping between elements and integer values\n",
    "element_to_int=dict((ele,num)for num,ele in enumerate(pitchnames))\n",
    "int_to_element=dict((num,ele)for num,ele in enumerate(pitchnames))"
   ]
  },
  {
   "cell_type": "code",
   "execution_count": 21,
   "id": "b563085e",
   "metadata": {},
   "outputs": [],
   "source": [
    "network_input=[]\n",
    "network_output=[]"
   ]
  },
  {
   "cell_type": "code",
   "execution_count": 22,
   "id": "47becac6",
   "metadata": {},
   "outputs": [],
   "source": [
    "for i in range(len(notes)-sequence_length):\n",
    "    seq_in=notes[i:i+sequence_length]\n",
    "    seq_out=notes[i+sequence_length]\n",
    "    \n",
    "    network_input.append([element_to_int[ch] for ch in seq_in])\n",
    "    network_output.append(element_to_int[seq_out])\n",
    "    "
   ]
  },
  {
   "cell_type": "code",
   "execution_count": 23,
   "id": "53d9d64c",
   "metadata": {},
   "outputs": [],
   "source": [
    "n_patterns=len(network_input)"
   ]
  },
  {
   "cell_type": "code",
   "execution_count": 24,
   "id": "22ec8e1d",
   "metadata": {},
   "outputs": [
    {
     "data": {
      "text/plain": [
       "86381"
      ]
     },
     "execution_count": 24,
     "metadata": {},
     "output_type": "execute_result"
    }
   ],
   "source": [
    "n_patterns"
   ]
  },
  {
   "cell_type": "code",
   "execution_count": 25,
   "id": "4ab68c36",
   "metadata": {},
   "outputs": [
    {
     "name": "stdout",
     "output_type": "stream",
     "text": [
      "(86381, 100, 1)\n"
     ]
    }
   ],
   "source": [
    "network_input=np.reshape(network_input,(n_patterns,sequence_length,1))\n",
    "print (network_input.shape)"
   ]
  },
  {
   "cell_type": "code",
   "execution_count": 26,
   "id": "d275b476",
   "metadata": {},
   "outputs": [],
   "source": [
    "normalised_network_input=network_input/float(n_vocab)"
   ]
  },
  {
   "cell_type": "code",
   "execution_count": 27,
   "id": "95e1d6a8",
   "metadata": {},
   "outputs": [
    {
     "name": "stdout",
     "output_type": "stream",
     "text": [
      "(86381, 386)\n"
     ]
    }
   ],
   "source": [
    "#convert into one hot vectors\n",
    "network_output=np_utils.to_categorical(network_output)\n",
    "print(network_output.shape)"
   ]
  },
  {
   "cell_type": "markdown",
   "id": "0cf923fd",
   "metadata": {},
   "source": [
    "MODEL CREATION"
   ]
  },
  {
   "cell_type": "code",
   "execution_count": 28,
   "id": "741cee63",
   "metadata": {},
   "outputs": [],
   "source": [
    "from keras.models import Sequential\n",
    "from keras.layers import *\n",
    "from keras.callbacks import ModelCheckpoint, EarlyStopping"
   ]
  },
  {
   "cell_type": "code",
   "execution_count": 29,
   "id": "9a5043c1",
   "metadata": {},
   "outputs": [],
   "source": [
    "model=Sequential()\n",
    "model.add(LSTM(units=512,\n",
    "              input_shape=(normalised_network_input.shape[1],normalised_network_input.shape[2]),\n",
    "              return_sequences=True))\n",
    "model.add(Dropout(0.3))\n",
    "model.add(LSTM(512,return_sequences=True))\n",
    "model.add(Dropout(0.3))\n",
    "model.add(LSTM(512))\n",
    "model.add(Dense(256))\n",
    "model.add(Dropout(0.3))\n",
    "model.add(Dense(n_vocab,activation='softmax'))"
   ]
  },
  {
   "cell_type": "code",
   "execution_count": 30,
   "id": "1e43c4b9",
   "metadata": {},
   "outputs": [],
   "source": [
    "model.compile(loss=\"categorical_crossentropy\",optimizer='adam')"
   ]
  },
  {
   "cell_type": "code",
   "execution_count": 31,
   "id": "f6e77b87",
   "metadata": {},
   "outputs": [
    {
     "name": "stdout",
     "output_type": "stream",
     "text": [
      "Model: \"sequential\"\n",
      "_________________________________________________________________\n",
      " Layer (type)                Output Shape              Param #   \n",
      "=================================================================\n",
      " lstm (LSTM)                 (None, 100, 512)          1052672   \n",
      "                                                                 \n",
      " dropout (Dropout)           (None, 100, 512)          0         \n",
      "                                                                 \n",
      " lstm_1 (LSTM)               (None, 100, 512)          2099200   \n",
      "                                                                 \n",
      " dropout_1 (Dropout)         (None, 100, 512)          0         \n",
      "                                                                 \n",
      " lstm_2 (LSTM)               (None, 512)               2099200   \n",
      "                                                                 \n",
      " dense (Dense)               (None, 256)               131328    \n",
      "                                                                 \n",
      " dropout_2 (Dropout)         (None, 256)               0         \n",
      "                                                                 \n",
      " dense_1 (Dense)             (None, 386)               99202     \n",
      "                                                                 \n",
      "=================================================================\n",
      "Total params: 5,481,602\n",
      "Trainable params: 5,481,602\n",
      "Non-trainable params: 0\n",
      "_________________________________________________________________\n"
     ]
    }
   ],
   "source": [
    "model.summary()"
   ]
  },
  {
   "cell_type": "code",
   "execution_count": null,
   "id": "4577ae49",
   "metadata": {},
   "outputs": [
    {
     "name": "stdout",
     "output_type": "stream",
     "text": [
      "Epoch 1/100\n",
      "100/100 [==============================] - 56511s 571s/step - loss: 5.0621\n",
      "Epoch 2/100\n",
      "100/100 [==============================] - 644s 6s/step - loss: 4.8922\n",
      "Epoch 3/100\n",
      "100/100 [==============================] - 624s 6s/step - loss: 4.8498\n",
      "Epoch 4/100\n",
      "100/100 [==============================] - 402s 4s/step - loss: 4.8547\n",
      "Epoch 5/100\n",
      "100/100 [==============================] - 489s 5s/step - loss: 4.7947\n",
      "Epoch 6/100\n",
      "100/100 [==============================] - 615s 6s/step - loss: 4.7542\n",
      "Epoch 7/100\n",
      "100/100 [==============================] - 623s 6s/step - loss: 4.8988\n",
      "Epoch 8/100\n",
      "100/100 [==============================] - 592s 6s/step - loss: 4.8216\n",
      "Epoch 9/100\n",
      "100/100 [==============================] - 561s 6s/step - loss: 4.7917\n",
      "Epoch 10/100\n",
      "100/100 [==============================] - 518s 5s/step - loss: 4.7661\n",
      "Epoch 11/100\n",
      "100/100 [==============================] - 540s 5s/step - loss: 4.7456\n",
      "Epoch 12/100\n",
      "  2/100 [..............................] - ETA: 8:44 - loss: 4.8295"
     ]
    }
   ],
   "source": [
    "checkpoint=ModelCheckpoint(\"model.hdf5\",monitor='loss',verbose=0,save_best_only=True,mode=\"min\")\n",
    "model.hist=model.fit(normalised_network_input,network_output,steps_per_epoch=100,epochs=100,batch_size=64,callbacks=[checkpoint])"
   ]
  },
  {
   "cell_type": "code",
   "execution_count": 32,
   "id": "4b0b3c89",
   "metadata": {},
   "outputs": [],
   "source": [
    "from keras.models import load_model"
   ]
  },
  {
   "cell_type": "code",
   "execution_count": 34,
   "id": "dd7a7cec",
   "metadata": {},
   "outputs": [],
   "source": [
    "model=load_model(\"model.hdf5\")"
   ]
  },
  {
   "cell_type": "markdown",
   "id": "03d33305",
   "metadata": {},
   "source": [
    "PREDICTIONS"
   ]
  },
  {
   "cell_type": "code",
   "execution_count": 35,
   "id": "6b098236",
   "metadata": {},
   "outputs": [],
   "source": [
    "network_input=[]\n",
    "\n",
    "for i in range(len(notes)-sequence_length):\n",
    "    seq_in=notes[i:i+sequence_length]\n",
    "    network_input.append([element_to_int[ch] for ch in seq_in])\n",
    "    "
   ]
  },
  {
   "cell_type": "code",
   "execution_count": 42,
   "id": "96dd65c3",
   "metadata": {},
   "outputs": [],
   "source": [
    "start=np.random.randint(len(network_input)-1)"
   ]
  },
  {
   "cell_type": "code",
   "execution_count": 43,
   "id": "13df3bbc",
   "metadata": {},
   "outputs": [],
   "source": [
    "int_to_ele=dict((num,ele) for num,ele in enumerate(pitchnames))"
   ]
  },
  {
   "cell_type": "code",
   "execution_count": 44,
   "id": "9047f389",
   "metadata": {},
   "outputs": [],
   "source": [
    "pattern=network_input[start]\n",
    "prediction_output=[]\n",
    "#generate 200 elements\n",
    "for not_index in range(200):\n",
    "    prediction_input=np.reshape(pattern,(1,len(pattern),1))\n",
    "    prediction_input=prediction_input/float(n_vocab)\n",
    "    prediction=model.predict(prediction_input,verbose=0)\n",
    "    idx=np.argmax(prediction)\n",
    "    result=int_to_ele[idx]\n",
    "    prediction_output.append(result)\n",
    "    pattern.append(idx)\n",
    "    pattern=pattern[1:]"
   ]
  },
  {
   "cell_type": "markdown",
   "id": "62291d58",
   "metadata": {},
   "source": [
    "# CREATE MIDI FILE"
   ]
  },
  {
   "cell_type": "code",
   "execution_count": 45,
   "id": "1341484e",
   "metadata": {},
   "outputs": [],
   "source": [
    "offset=0 #time\n",
    "output_notes=[]\n",
    "\n",
    "for pattern in prediction_output:\n",
    "    #if the pattern is a chord\n",
    "    if ('+' in pattern) or pattern.isdigit():\n",
    "        notes_in_chord=pattern.split('+')\n",
    "        temp_notes=[]\n",
    "        for current_note in notes_in_chord:\n",
    "            new_note=note.Note(int(current_note)) #create note object for each note in chord\n",
    "            new_note.storedInstrument=instrument.Piano()\n",
    "            temp_notes.append(new_note)\n",
    "            \n",
    "        new_chord=chord.Chord(temp_notes)\n",
    "        new_chord.offset=offset\n",
    "        output_notes.append(new_chord)\n",
    "        \n",
    "    else:\n",
    "        #if the pattern is a note\n",
    "        new_note=note.Note(pattern) #create note object for each note in chord\n",
    "        new_note.offset=offset\n",
    "        new_note.storedInstrument=instrument.Piano()\n",
    "        output_notes.append(new_note)\n",
    "        \n",
    "    offset+=0.5 #all elements are played after same time\n",
    "    "
   ]
  },
  {
   "cell_type": "code",
   "execution_count": 46,
   "id": "77a8cd8e",
   "metadata": {},
   "outputs": [
    {
     "data": {
      "text/plain": [
       "'test_output.mid'"
      ]
     },
     "execution_count": 46,
     "metadata": {},
     "output_type": "execute_result"
    }
   ],
   "source": [
    "#create a stream object\n",
    "midi_stream=stream.Stream(output_notes)\n",
    "midi_stream.write('midi',fp='test_output.mid')"
   ]
  },
  {
   "cell_type": "code",
   "execution_count": 47,
   "id": "693da21e",
   "metadata": {},
   "outputs": [
    {
     "data": {
      "text/html": [
       "\n",
       "                <div id=\"midiPlayerDiv24272\"></div>\n",
       "                <link rel=\"stylesheet\" href=\"//cuthbertLab.github.io/music21j/css/m21.css\"\n",
       "                    type=\"text/css\" />\n",
       "                \n",
       "                <script>\n",
       "                require.config({\n",
       "                    paths: {'music21': '//cuthbertLab.github.io/music21j/src/music21'}\n",
       "                });\n",
       "                require(['music21'], function() {\n",
       "                               mp = new music21.miditools.MidiPlayer();\n",
       "                               mp.addPlayer(\"#midiPlayerDiv24272\");\n",
       "                               mp.base64Load(\"data:audio/midi;base64,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\");\n",
       "                        });\n",
       "                </script>"
      ],
      "text/plain": [
       "<IPython.core.display.HTML object>"
      ]
     },
     "metadata": {},
     "output_type": "display_data"
    }
   ],
   "source": [
    "midi_stream.show('midi')"
   ]
  },
  {
   "cell_type": "markdown",
   "id": "a0a0a7be",
   "metadata": {},
   "source": [
    "DISADVANTAGES:\n",
    "    1. doesnt know how it should start or end\n",
    "    2. offset is taken as constant"
   ]
  },
  {
   "cell_type": "code",
   "execution_count": null,
   "id": "02b2694e",
   "metadata": {},
   "outputs": [],
   "source": []
  }
 ],
 "metadata": {
  "kernelspec": {
   "display_name": "Python 3 (ipykernel)",
   "language": "python",
   "name": "python3"
  },
  "language_info": {
   "codemirror_mode": {
    "name": "ipython",
    "version": 3
   },
   "file_extension": ".py",
   "mimetype": "text/x-python",
   "name": "python",
   "nbconvert_exporter": "python",
   "pygments_lexer": "ipython3",
   "version": "3.9.12"
  }
 },
 "nbformat": 4,
 "nbformat_minor": 5
}
